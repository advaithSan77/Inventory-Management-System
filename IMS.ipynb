{
  "nbformat": 4,
  "nbformat_minor": 0,
  "metadata": {
    "colab": {
      "name": "IMS.ipynb",
      "provenance": [],
      "collapsed_sections": []
    },
    "kernelspec": {
      "name": "python3",
      "display_name": "Python 3"
    },
    "language_info": {
      "name": "python"
    }
  },
  "cells": [
    {
      "cell_type": "code",
      "metadata": {
        "id": "jEalwB9I0hKI"
      },
      "source": [
        "#Initial Inventory\n",
        "\n",
        "records = {  \n",
        "             '1000' : {'name':'Dairy Milk', 'price':20.0, 'quantity':50, 'category':'chocolate', 'brand':'Cadbury'},\n",
        "             '1001' : {'name':'Kit Kat', 'price':30.0, 'quantity':50, 'category':'chocolate', 'brand':'Nestle'},\n",
        "             '1002' : {'name':'Snickers', 'price':20.0, 'quantity':50, 'category':'chocolate', 'brand':'Mars, Inc.'},\n",
        "             '1003' : {'name':'Marie Gold', 'price':20.0, 'quantity':50, 'category':'biscuit', 'brand':'Britannia'},\n",
        "             '1004' : {'name':'Hide n Seek', 'price':40.0, 'quantity':50, 'category':'biscuit', 'brand':'Parle'},\n",
        "             '1005' : {'name':'Bouborn', 'price':50.0, 'quantity':50, 'category':'biscuit', 'brand':'Britannia'},\n",
        "             '1006' : {'name':'Dark Fantasy', 'price':50.0, 'quantity':50, 'category':'biscuit', 'brand':'Sunfeast'},\n",
        "             '1007' : {'name':'Parle G', 'price':10.0, 'quantity':50, 'category':'biscuit', 'brand':'Parle'},\n",
        "             '1008' : {'name':'Good Day', 'price':20.0, 'quantity':50, 'category':'biscuit', 'brand':'Britannia'},\n",
        "             '1009' : {'name':'Krack Jack', 'price':30.0, 'quantity':50, 'category':'biscuit', 'brand':'Parle'},\n",
        "             '1010' : {'name':'Lays', 'price':20.0, 'quantity':50, 'category': 'chips', 'brand':'Frito-Lay'},\n",
        "             '1011' : {'name':'Bingo', 'price':10.0, 'quantity':50, 'category': 'chips', 'brand':'ITC Foods'},\n",
        "             '1012' : {'name':'Doritos', 'price':60.0, 'quantity':50, 'category': 'chips', 'brand':'Frito-Lay'},\n",
        "             '1013' : {'name':'Cornflakes', 'price':150.0, 'quantity':50, 'category':'cereal', 'brand':'Kellogg\\'s'},\n",
        "             '1014' : {'name':'Chocos', 'price':180.0, 'quantity':50, 'category':'cereal', 'brand':'Kellogg\\'s'},\n",
        "             '1015' : {'name':'Pepsi', 'price':45.0, 'quantity':50, 'category':'cold drink', 'brand':'PepsiCo'},\n",
        "             '1016' : {'name':'Coke', 'price':45.0, 'quantity':50, 'category':'cold drink', 'brand':'The Coca-Cola Company'},\n",
        "             '1017' : {'name':'Frooti', 'price':35.0, 'quantity':50, 'category':'cold drink', 'brand':'Parle'},\n",
        "             '1018' : {'name':'Maaza', 'price':35.0, 'quantity':50, 'category':'cold drink', 'brand':'The Coca-Cola Company'},\n",
        "             '1019' : {'name':'Mountain Dew', 'price':40.0, 'quantity':50, 'category':'cold drink', 'brand':'PepsiCo'},\n",
        "             '1020' : {'name':'50-50', 'price':30.0, 'quantity':50, 'category':'biscuit', 'brand':'Britannia'},\n",
        "             '1021' : {'name':'Milky Bar', 'price':20.0, 'quantity':50, 'category':'chocolate', 'brand':'Nestle'},\n",
        "             '1022' : {'name':'Cheetos', 'price':20.0, 'quantity':50, 'category': 'chips', 'brand':'Frito-Lay'},\n",
        "             '1023' : {'name':'Oreo', 'price':50.0, 'quantity':50, 'category':'biscuit', 'brand':'Mondelez International'},\n",
        "             '1024' : {'name':'M&M\\'s', 'price':35.0, 'quantity':50, 'category':'chocolate', 'brand':'Mars, Inc.'},\n",
        "             '1025' : {'name':'Sprite', 'price':40.0, 'quantity':50, 'category':'cold drink', 'brand':'The Coca-Cola Company'},\n",
        "             '1026' : {'name':'Pringles', 'price':65.0, 'quantity':50, 'category': 'chips', 'brand':'Kellogg\\'s'},\n",
        "             '1027' : {'name':'Twix', 'price':20.0, 'quantity':50, 'category':'chocolate', 'brand':'Mars, Inc.'},\n",
        "             '1028' : {'name':'Froot Loops', 'price':145.0, 'quantity':50, 'category':'cereal', 'brand':'Kellogg\\'s'},\n",
        "             '1029' : {'name':'Cheerios', 'price':160.0, 'quantity':50, 'category':'cereal', 'brand':'General Mills'},\n",
        "             '1030' : {'name':'Fruitrings', 'price':130.0, 'quantity':50, 'category':'cereal', 'brand':'Kwality'},\n",
        "             \n",
        "}"
      ],
      "execution_count": 117,
      "outputs": []
    },
    {
      "cell_type": "code",
      "metadata": {
        "id": "_sJdP652FRu_"
      },
      "source": [
        "#Function to display items available\n",
        "\n",
        "def items_disp(ids=records.keys()):\n",
        "  print(' Item ID \\t\\t   Item Name \\t\\t\\tPrice\\t\\tQuantity Available')\n",
        "  print('-------------------------------------------------------------------------------------------')\n",
        "  for i in ids:\n",
        "   print('  %4s\\t\\t\\t%12s\\t\\t\\t%6.2f\\t\\t\\t%3d'%(i, records[i]['name'], records[i]['price'], records[i]['quantity']))"
      ],
      "execution_count": 110,
      "outputs": []
    },
    {
      "cell_type": "code",
      "metadata": {
        "id": "JsCrLGBjVwPU"
      },
      "source": [
        "#Function to display the bill\n",
        "\n",
        "def bill_disp(ids, quan):\n",
        "  print('     Item ID \\t\\t\\t   Item Name \\t\\t\\t Price\\t\\tQuantity\\t\\t  Total')\n",
        "  print('   --------------------------------------------------------------------------------------------------------------')\n",
        "  no = 1\n",
        "  tot = 0.0\n",
        "  for i in ids:\n",
        "    am = records[i]['price']*quan[i]\n",
        "    print('  '+str(no)+'.  %4s\\t\\t\\t%12s\\t\\t\\t%6.2f\\t\\t  %2d\\t\\t\\t%7.2f'%(i, records[i]['name'], records[i]['price'], quan[i], am))\n",
        "    tot += am\n",
        "    no += 1\n",
        "  print('\\n\\t\\t\\t\\t\\t\\t\\t\\t\\t\\t     Total Bill amount:', tot)\n",
        "     "
      ],
      "execution_count": 111,
      "outputs": []
    },
    {
      "cell_type": "code",
      "metadata": {
        "id": "hSZ2Wv3YZjD1"
      },
      "source": [
        "#delete\n",
        "bill_disp(['1000', '1001', '1002', '1014'], {'1000': 3, '1001': 3, '1002': 2, '1014': 10})"
      ],
      "execution_count": null,
      "outputs": []
    },
    {
      "cell_type": "code",
      "metadata": {
        "id": "qg6Shw6LBbk4"
      },
      "source": [
        "#delete\n",
        "bill_disp(['1000', '1001', '1002', '1033', '1032', '1014'], {'1000': 3, '1001': 3, '1002': 2, '1033': 13, '1032': 4, '1014': 10})"
      ],
      "execution_count": null,
      "outputs": []
    },
    {
      "cell_type": "code",
      "metadata": {
        "id": "O9bzpEBSVRow"
      },
      "source": [
        "#delete\n",
        "items_disp()"
      ],
      "execution_count": null,
      "outputs": []
    },
    {
      "cell_type": "code",
      "metadata": {
        "id": "_XcvqRONxNus"
      },
      "source": [
        "import json"
      ],
      "execution_count": 118,
      "outputs": []
    },
    {
      "cell_type": "code",
      "metadata": {
        "id": "TvMpRWyxAwxC"
      },
      "source": [
        "#delete\n",
        "js"
      ],
      "execution_count": null,
      "outputs": []
    },
    {
      "cell_type": "code",
      "metadata": {
        "id": "DvCY6kqxzEyf"
      },
      "source": [
        "#Writing the initial records dictionary to the records.json file\n",
        "\n",
        "js = json.dumps(records)\n",
        "f = open(\"records.json\", 'w')\n",
        "f.write(js)\n",
        "f.close()"
      ],
      "execution_count": 119,
      "outputs": []
    },
    {
      "cell_type": "code",
      "metadata": {
        "id": "wJB2DDrjBlox"
      },
      "source": [
        "#delete\n",
        "f = open(\"records.json\", 'r')\n",
        "tx = f.read()\n",
        "f.close()\n",
        "records = json.loads(tx)"
      ],
      "execution_count": 120,
      "outputs": []
    },
    {
      "cell_type": "code",
      "metadata": {
        "id": "g3ZQo3wlEjTy"
      },
      "source": [
        "#delete\n",
        "records"
      ],
      "execution_count": null,
      "outputs": []
    },
    {
      "cell_type": "code",
      "metadata": {
        "id": "WX0DXyG6DJWo"
      },
      "source": [
        "#Add to Inventory\n",
        "\n",
        "f = open(\"records.json\", 'r')\n",
        "tx = f.read()\n",
        "f.close()\n",
        "records = json.loads(tx)\n",
        "\n",
        "print('Enter the number of items to add to the inventory: ', end='')\n",
        "ni = int(input())\n",
        "for i in range(1, ni+1):\n",
        "  print('\\nEnter the name of item', str(i)+': ', end='')\n",
        "  na = input()\n",
        "  print('Enter the number of', na+': ', end='')\n",
        "  num = int(input())\n",
        "  fl = 0\n",
        "  po = ''\n",
        "  for j in records.keys():\n",
        "    if na.lower() == records[j]['name'].lower():\n",
        "      fl = 1\n",
        "      po = j\n",
        "  if fl == 0:\n",
        "    co = 1000\n",
        "    while(True):\n",
        "      if str(co) not in records.keys():\n",
        "        break\n",
        "      co += 1\n",
        "    print('Enter the price of', na+': ', end='')\n",
        "    pr = float(input())\n",
        "    print('Enter the category of', na+': ', end='')\n",
        "    ca = input()\n",
        "    print('Enter the brand of', na+': ', end='')\n",
        "    br = input()\n",
        "    records[str(co)] = {'name': na, 'price': pr, 'quantity': num, 'category': ca.lower(), 'brand': br} \n",
        "  else:\n",
        "    records[po]['quantity'] += num\n",
        "\n",
        "js = json.dumps(records)\n",
        "f = open(\"records.json\", 'w')\n",
        "f.write(js)\n",
        "f.close()\n",
        "\n",
        "print(\"\\nItems added\")"
      ],
      "execution_count": null,
      "outputs": []
    },
    {
      "cell_type": "code",
      "metadata": {
        "id": "1eqWu6BaFYDr"
      },
      "source": [
        "#delete\n",
        "records.values()"
      ],
      "execution_count": null,
      "outputs": []
    },
    {
      "cell_type": "code",
      "metadata": {
        "id": "EGcHVdsWGS_I"
      },
      "source": [
        "#Order from Inventory\n",
        "\n",
        "f = open(\"records.json\", 'r')\n",
        "tx = f.read()\n",
        "f.close()\n",
        "records = json.loads(tx)\n",
        "\n",
        "lis = []\n",
        "dic = {}\n",
        "print(\"Available items:\\n\")\n",
        "items_disp()\n",
        "\n",
        "while(True):\n",
        "  print('\\nEnter the number of items you want to purchase: ', end='')\n",
        "  n = int(input())\n",
        "  if n > 30 or n < 1:\n",
        "    print('Invalid number of items \\nTry again')\n",
        "    continue\n",
        "  print(\"\\nEnter the IDs of the items: \")\n",
        "  c = 1\n",
        "  while(True):\n",
        "    a = input()\n",
        "    if a not in records.keys():\n",
        "      print(\"\\nInvalid Item ID. Enter another ID: \")\n",
        "      continue\n",
        "    if records[a]['quantity'] == 0:\n",
        "      print(\"\\nSorry we're out of\", records[a]['name'])\n",
        "      print('\\nSimilar items available:\\n')\n",
        "      lis1 = []\n",
        "      for i in records.keys():\n",
        "        if records[a]['category'] == records[i]['category']:\n",
        "          lis1.append(i)\n",
        "      items_disp(lis1)\n",
        "      print(\"\\nEnter another ID:\")\n",
        "      continue\n",
        "    lis.append(a)\n",
        "    c+=1\n",
        "    if c > n:\n",
        "      break\n",
        "  \n",
        "  for i in lis:\n",
        "    print(\"\\nEnter the number of\", records[i]['name']+': ', end='')\n",
        "    b = int(input())\n",
        "    if records[i]['quantity'] < b:\n",
        "      print(\"\\nSorry we only have\", records[i]['quantity'], records[i]['name']+'. Would you like to buy all of those?')\n",
        "      b = records[i]['quantity']\n",
        "      print(\"Enter y for yes and n for no: \", end='')\n",
        "      ch = input()\n",
        "      if ch == 'n' or ch == 'N': \n",
        "        lis.remove(i)\n",
        "        continue\n",
        "    dic[i] = b\n",
        "  for i in lis:\n",
        "    records[i]['quantity'] -= dic[i]\n",
        "  print()\n",
        "  if lis == []:\n",
        "    print('Your cart is empty\\n\\nWould you like to place another order?\\nEnter y for yes and n for no: ', end='')\n",
        "    ch1 = input()\n",
        "    if ch1 == 'y' or ch1 == 'Y':\n",
        "      continue\n",
        "    else:\n",
        "      break\n",
        "  else:\n",
        "    bill_disp(lis, dic)\n",
        "  break\n",
        "  \n",
        "js = json.dumps(records)\n",
        "f = open(\"records.json\", 'w')\n",
        "f.write(js)\n",
        "f.close()\n",
        "\n",
        "  \n",
        "  "
      ],
      "execution_count": null,
      "outputs": []
    }
  ]
}