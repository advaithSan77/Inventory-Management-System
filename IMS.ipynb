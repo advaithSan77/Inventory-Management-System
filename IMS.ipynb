{
  "nbformat": 4,
  "nbformat_minor": 0,
  "metadata": {
    "colab": {
      "name": "IMS.ipynb",
      "provenance": [],
      "collapsed_sections": []
    },
    "kernelspec": {
      "name": "python3",
      "display_name": "Python 3"
    },
    "language_info": {
      "name": "python"
    }
  },
  "cells": [
    {
      "cell_type": "markdown",
      "metadata": {
        "id": "L3ZjCR-i7ViL"
      },
      "source": [
        "#Initial Inventory and Sales:"
      ]
    },
    {
      "cell_type": "code",
      "metadata": {
        "id": "jEalwB9I0hKI"
      },
      "source": [
        "records = {  \n",
        "             '1000' : {'name':'Dairy Milk', 'price':20.0, 'quantity':50, 'category':'chocolate', 'brand':'Cadbury'},\n",
        "             '1001' : {'name':'Kit Kat', 'price':30.0, 'quantity':50, 'category':'chocolate', 'brand':'Nestle'},\n",
        "             '1002' : {'name':'Snickers', 'price':20.0, 'quantity':50, 'category':'chocolate', 'brand':'Mars, Inc.'},\n",
        "             '1003' : {'name':'Marie Gold', 'price':20.0, 'quantity':50, 'category':'biscuit', 'brand':'Britannia'},\n",
        "             '1004' : {'name':'Hide n Seek', 'price':40.0, 'quantity':50, 'category':'biscuit', 'brand':'Parle'},\n",
        "             '1005' : {'name':'Bouborn', 'price':50.0, 'quantity':50, 'category':'biscuit', 'brand':'Britannia'},\n",
        "             '1006' : {'name':'Dark Fantasy', 'price':50.0, 'quantity':50, 'category':'biscuit', 'brand':'Sunfeast'},\n",
        "             '1007' : {'name':'Parle G', 'price':10.0, 'quantity':50, 'category':'biscuit', 'brand':'Parle'},\n",
        "             '1008' : {'name':'Good Day', 'price':20.0, 'quantity':50, 'category':'biscuit', 'brand':'Britannia'},\n",
        "             '1009' : {'name':'Krack Jack', 'price':30.0, 'quantity':50, 'category':'biscuit', 'brand':'Parle'},\n",
        "             '1010' : {'name':'Lays', 'price':20.0, 'quantity':50, 'category': 'chips', 'brand':'Frito-Lay'},\n",
        "             '1011' : {'name':'Bingo', 'price':10.0, 'quantity':50, 'category': 'chips', 'brand':'ITC Foods'},\n",
        "             '1012' : {'name':'Doritos', 'price':60.0, 'quantity':50, 'category': 'chips', 'brand':'Frito-Lay'},\n",
        "             '1013' : {'name':'Cornflakes', 'price':150.0, 'quantity':50, 'category':'cereal', 'brand':'Kellogg\\'s'},\n",
        "             '1014' : {'name':'Chocos', 'price':180.0, 'quantity':50, 'category':'cereal', 'brand':'Kellogg\\'s'},\n",
        "             '1015' : {'name':'Pepsi', 'price':45.0, 'quantity':50, 'category':'cold drink', 'brand':'PepsiCo'},\n",
        "             '1016' : {'name':'Coke', 'price':45.0, 'quantity':50, 'category':'cold drink', 'brand':'The Coca-Cola Company'},\n",
        "             '1017' : {'name':'Frooti', 'price':35.0, 'quantity':50, 'category':'cold drink', 'brand':'Parle'},\n",
        "             '1018' : {'name':'Maaza', 'price':35.0, 'quantity':50, 'category':'cold drink', 'brand':'The Coca-Cola Company'},\n",
        "             '1019' : {'name':'Mountain Dew', 'price':40.0, 'quantity':50, 'category':'cold drink', 'brand':'PepsiCo'},\n",
        "             '1020' : {'name':'50-50', 'price':30.0, 'quantity':50, 'category':'biscuit', 'brand':'Britannia'},\n",
        "             '1021' : {'name':'Milky Bar', 'price':20.0, 'quantity':50, 'category':'chocolate', 'brand':'Nestle'},\n",
        "             '1022' : {'name':'Cheetos', 'price':20.0, 'quantity':50, 'category': 'chips', 'brand':'Frito-Lay'},\n",
        "             '1023' : {'name':'Oreo', 'price':50.0, 'quantity':50, 'category':'biscuit', 'brand':'Mondelez International'},\n",
        "             '1024' : {'name':'M&M\\'s', 'price':35.0, 'quantity':50, 'category':'chocolate', 'brand':'Mars, Inc.'},\n",
        "             '1025' : {'name':'Sprite', 'price':40.0, 'quantity':50, 'category':'cold drink', 'brand':'The Coca-Cola Company'},\n",
        "             '1026' : {'name':'Pringles', 'price':65.0, 'quantity':50, 'category': 'chips', 'brand':'Kellogg\\'s'},\n",
        "             '1027' : {'name':'Twix', 'price':20.0, 'quantity':50, 'category':'chocolate', 'brand':'Mars, Inc.'},\n",
        "             '1028' : {'name':'Froot Loops', 'price':145.0, 'quantity':50, 'category':'cereal', 'brand':'Kellogg\\'s'},\n",
        "             '1029' : {'name':'Cheerios', 'price':160.0, 'quantity':50, 'category':'cereal', 'brand':'General Mills'},\n",
        "             '1030' : {'name':'Fruitrings', 'price':130.0, 'quantity':50, 'category':'cereal', 'brand':'Kwality'},\n",
        "             \n",
        "}\n",
        "\n"
      ],
      "execution_count": null,
      "outputs": []
    },
    {
      "cell_type": "markdown",
      "metadata": {
        "id": "ggt_StfG74OL"
      },
      "source": [
        "**Importing json and writing initial records dictionary to the records.json file and empty sales dictionary to sales.json file**"
      ]
    },
    {
      "cell_type": "code",
      "metadata": {
        "id": "CH9zoUuiw38D"
      },
      "source": [
        "sales = {}"
      ],
      "execution_count": null,
      "outputs": []
    },
    {
      "cell_type": "code",
      "metadata": {
        "id": "_XcvqRONxNus"
      },
      "source": [
        "import json"
      ],
      "execution_count": 2,
      "outputs": []
    },
    {
      "cell_type": "code",
      "metadata": {
        "id": "Ffgv5ukMw-I0"
      },
      "source": [
        "js = json.dumps(sales)\n",
        "f = open(\"sales.json\", 'w')\n",
        "f.write(js)\n",
        "f.close()"
      ],
      "execution_count": null,
      "outputs": []
    },
    {
      "cell_type": "code",
      "metadata": {
        "id": "DvCY6kqxzEyf"
      },
      "source": [
        "js = json.dumps(records)\n",
        "f = open(\"records.json\", 'w')\n",
        "f.write(js)\n",
        "f.close()"
      ],
      "execution_count": null,
      "outputs": []
    },
    {
      "cell_type": "markdown",
      "metadata": {
        "id": "NY4w2ROUwUlq"
      },
      "source": [
        "#Program with updated record and sales:"
      ]
    },
    {
      "cell_type": "code",
      "metadata": {
        "id": "9sG6IZBXv4_0"
      },
      "source": [
        "import json"
      ],
      "execution_count": 13,
      "outputs": []
    },
    {
      "cell_type": "markdown",
      "metadata": {
        "id": "QKbyv_oq7aMM"
      },
      "source": [
        "**Function to display items available**"
      ]
    },
    {
      "cell_type": "code",
      "metadata": {
        "id": "_sJdP652FRu_"
      },
      "source": [
        "def items_disp(ids):\n",
        "  print('  Item ID \\t\\t   Item Name \\t\\t\\t Price\\t\\t  Quantity Available')\n",
        "  print(' ---------               -------------                  -------          --------------------')\n",
        "  for i in ids:\n",
        "    if records[i]['quantity'] > 0:\n",
        "      print('   %4s\\t\\t\\t%12s\\t\\t\\t%6.2f\\t\\t\\t%3d'%(i, records[i]['name'], records[i]['price'], records[i]['quantity']))\n",
        "    else:\n",
        "      print('   %4s\\t\\t\\t%12s\\t\\t\\t%6.2f\\t\\t     %12s'%(i, records[i]['name'], records[i]['price'], 'Out of stock'))\n"
      ],
      "execution_count": 8,
      "outputs": []
    },
    {
      "cell_type": "markdown",
      "metadata": {
        "id": "_Jfz12n17rRW"
      },
      "source": [
        "**Function to display the bill**"
      ]
    },
    {
      "cell_type": "code",
      "metadata": {
        "id": "JsCrLGBjVwPU"
      },
      "source": [
        "def bill_disp(ids, quan):\n",
        "  print('Bill:\\n')\n",
        "  print('     Item ID \\t\\t   Item Name \\t\\t Price\\t\\tQuantity\\t Total')\n",
        "  print('  --------------------------------------------------------------------------------------')\n",
        "  no = 1\n",
        "  tot = 0.0\n",
        "  for i in ids:\n",
        "    am = records[i]['price']*quan[i]\n",
        "    print('  '+str(no)+'.  %4s\\t\\t%12s\\t\\t%6.2f\\t\\t  %2d\\t\\t%7.2f'%(i, records[i]['name'], records[i]['price'], quan[i], am))\n",
        "    tot += am\n",
        "    no += 1\n",
        "  print('\\n\\t\\t\\t\\t\\t\\t\\t     Total Bill amount: %7.2f'%(tot))\n",
        "     "
      ],
      "execution_count": 9,
      "outputs": []
    },
    {
      "cell_type": "markdown",
      "metadata": {
        "id": "O1hs9VH-c-NX"
      },
      "source": [
        "**Function to add to the sales record**"
      ]
    },
    {
      "cell_type": "code",
      "metadata": {
        "id": "ZcU9cUBO8iv0"
      },
      "source": [
        "from datetime import datetime\n",
        "from pytz import timezone\n",
        "\n",
        "def add_sales(ids, quan):\n",
        "  f = open(\"sales.json\", 'r')\n",
        "  tx = f.read()\n",
        "  f.close()\n",
        "  sales = json.loads(tx)\n",
        "\n",
        "  c = len(sales) + 1\n",
        "  for i in ids:\n",
        "    time = datetime.now(timezone(\"Asia/Kolkata\")).strftime('%Y-%m-%d  %H:%M:%S')\n",
        "    sales[str(c)] = {'name': records[i]['name'], 'price': records[i]['price'], 'quantity': quan[i], 'amount': records[i]['price']*quan[i], 'time': time}\n",
        "    c += 1\n",
        "\n",
        "  js = json.dumps(sales)\n",
        "  f = open(\"sales.json\", 'w')\n",
        "  f.write(js)\n",
        "  f.close()\n",
        "\n"
      ],
      "execution_count": null,
      "outputs": []
    },
    {
      "cell_type": "markdown",
      "metadata": {
        "id": "CPJ5B9umHuIR"
      },
      "source": [
        "**Function to view sales**"
      ]
    },
    {
      "cell_type": "code",
      "metadata": {
        "id": "uFI8PdGMHZKG"
      },
      "source": [
        "def view_sales():\n",
        "  f = open(\"sales.json\", 'r')\n",
        "  tx = f.read()\n",
        "  f.close()\n",
        "  sales = json.loads(tx)\n",
        "  print('Transaction ID \\t     Item Name \\t\\t Price\\t\\tQuantity\\t  Total\\t\\t  Transaction time')\n",
        "  print('-------------------------------------------------------------------------------------------------------------')\n",
        "  for i in sales.keys():\n",
        "    print('   %3s\\t\\t  %12s\\t\\t%6.2f\\t\\t  %2d\\t\\t%7.2f\\t\\t%19s'%(i, sales[i]['name'], sales[i]['price'], sales[i]['quantity'], sales[i]['amount'], sales[i]['time']))\n"
      ],
      "execution_count": 5,
      "outputs": []
    },
    {
      "cell_type": "markdown",
      "metadata": {
        "id": "_2a1fxLWMwPg"
      },
      "source": [
        "**Viewing sales and records**"
      ]
    },
    {
      "cell_type": "code",
      "metadata": {
        "id": "GJ5W8vwQG1OU"
      },
      "source": [
        "view_sales()"
      ],
      "execution_count": null,
      "outputs": []
    },
    {
      "cell_type": "code",
      "metadata": {
        "id": "ASC0Q5BPG1rv"
      },
      "source": [
        "f = open(\"records.json\", 'r')\n",
        "tx = f.read()\n",
        "f.close()\n",
        "records = json.loads(tx)\n",
        "\n",
        "items_disp(records.keys())"
      ],
      "execution_count": null,
      "outputs": []
    },
    {
      "cell_type": "markdown",
      "metadata": {
        "id": "-ZBkCJw_8FvX"
      },
      "source": [
        "**Adding items to the Inventory**"
      ]
    },
    {
      "cell_type": "code",
      "metadata": {
        "id": "WX0DXyG6DJWo"
      },
      "source": [
        "\n",
        "\n",
        "f = open(\"records.json\", 'r')\n",
        "tx = f.read()\n",
        "f.close()\n",
        "records = json.loads(tx)\n",
        "\n",
        "\n",
        "print('Enter the number of item(s) to add to the inventory: ', end='')\n",
        "ni = int(input())\n",
        "for i in range(1, ni+1):\n",
        "  print('\\nEnter the name of item', str(i)+': ', end='')\n",
        "  na = input()\n",
        "  print('Enter the number of', na+': ', end='')\n",
        "  num = int(input())\n",
        "  fl = 0\n",
        "  po = ''\n",
        "  for j in records.keys():\n",
        "    if na.lower() == records[j]['name'].lower():\n",
        "      fl = 1\n",
        "      po = j\n",
        "  if fl == 0:\n",
        "    co = int(max(records.keys())) + 1\n",
        "    print('Enter the price of', na+': ', end='')\n",
        "    pr = float(input())\n",
        "    print('Enter the category of', na+': ', end='')\n",
        "    ca = input()\n",
        "    print('Enter the brand of', na+': ', end='')\n",
        "    br = input()\n",
        "    records[str(co)] = {'name': na, 'price': pr, 'quantity': num, 'category': ca.lower(), 'brand': br} \n",
        "  else:\n",
        "    records[po]['quantity'] += num\n",
        "\n",
        "\n",
        "js = json.dumps(records)\n",
        "f = open(\"records.json\", 'w')\n",
        "f.write(js)\n",
        "f.close()\n",
        "\n",
        "print(\"\\nItems added\")"
      ],
      "execution_count": null,
      "outputs": []
    },
    {
      "cell_type": "markdown",
      "metadata": {
        "id": "bKFFkka78X38"
      },
      "source": [
        "**Ordering items from the Inventory**"
      ]
    },
    {
      "cell_type": "code",
      "metadata": {
        "id": "EGcHVdsWGS_I"
      },
      "source": [
        "f = open(\"records.json\", 'r')\n",
        "tx = f.read()\n",
        "f.close()\n",
        "records = json.loads(tx)\n",
        "\n",
        "\n",
        "lis = []\n",
        "dic = {}\n",
        "print(\"\\nAvailable items:\\n\")\n",
        "items_disp(records.keys())\n",
        "\n",
        "while(True):\n",
        "  print('\\nEnter the number of item(s) you want to purchase: ', end='')\n",
        "  n = int(input())\n",
        "  if n > len(records) or n < 1:\n",
        "    print('Invalid number of item(s) \\nTry again')\n",
        "    continue\n",
        "  print(\"\\nEnter the ID(s) of the item(s): \")\n",
        "  c = 1\n",
        "  while(True):\n",
        "    a = input()\n",
        "    if a not in records.keys():\n",
        "      print(\"\\nInvalid Item ID. Enter another ID: \")\n",
        "      continue\n",
        "    if records[a]['quantity'] == 0:\n",
        "      print(\"\\nSorry we're out of\", records[a]['name'])\n",
        "      lis1 = []\n",
        "      for i in records.keys():\n",
        "        if records[a]['category'] == records[i]['category'] and records[i]['quantity'] > 0:\n",
        "          lis1.append(i)\n",
        "      if lis1 != []:\n",
        "        print('\\nSimilar item(s) available:\\n')\n",
        "        items_disp(lis1)\n",
        "      else:\n",
        "        print('\\nNo item(s) of the similar category available')\n",
        "      print(\"\\nEnter other ID(s):\")\n",
        "      continue\n",
        "    lis.append(a)\n",
        "    c+=1\n",
        "    if c > n:\n",
        "      break\n",
        "  \n",
        "  for i in lis:\n",
        "    print(\"\\nEnter the number of\", records[i]['name']+': ', end='')\n",
        "    b = int(input())\n",
        "    if records[i]['quantity'] < b:\n",
        "      print(\"\\nSorry we only have\", records[i]['quantity'], records[i]['name']+'. Would you like to buy all of those?')\n",
        "      b = records[i]['quantity']\n",
        "      print(\"Enter y for yes and n for no: \", end='')\n",
        "      ch = input()\n",
        "      if ch == 'n' or ch == 'N': \n",
        "        lis.remove(i)\n",
        "        continue\n",
        "    dic[i] = b\n",
        "  \n",
        "  for i in lis:\n",
        "    records[i]['quantity'] -= dic[i]\n",
        "  print()\n",
        "  if lis == []:\n",
        "    print('Your cart is empty\\n\\nWould you like to place another order?\\nEnter y for yes and n for no: ', end='')\n",
        "    ch1 = input()\n",
        "    if ch1 == 'y' or ch1 == 'Y':\n",
        "      continue\n",
        "    else:\n",
        "      break\n",
        "  else:\n",
        "    add_sales(lis, dic)\n",
        "    bill_disp(lis, dic)\n",
        "  break\n",
        "\n",
        "  \n",
        "js = json.dumps(records)\n",
        "f = open(\"records.json\", 'w')\n",
        "f.write(js)\n",
        "f.close()\n",
        "\n",
        "  \n",
        "  "
      ],
      "execution_count": null,
      "outputs": []
    },
    {
      "cell_type": "markdown",
      "metadata": {
        "id": "V-HjxOStdten"
      },
      "source": [
        "**View sales record**"
      ]
    },
    {
      "cell_type": "code",
      "metadata": {
        "id": "CbvYRKElbtJy"
      },
      "source": [
        "view_sales()"
      ],
      "execution_count": null,
      "outputs": []
    }
  ]
}